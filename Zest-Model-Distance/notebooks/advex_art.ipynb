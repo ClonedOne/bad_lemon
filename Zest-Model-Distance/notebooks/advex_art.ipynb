{
 "cells": [
  {
   "cell_type": "code",
   "execution_count": 1,
   "metadata": {},
   "outputs": [],
   "source": [
    "import os\n",
    "os.chdir('../')"
   ]
  },
  {
   "cell_type": "code",
   "execution_count": 24,
   "metadata": {},
   "outputs": [],
   "source": [
    "import torch\n",
    "import numpy as np\n",
    "import matplotlib.pyplot as plt\n",
    "\n",
    "from tqdm.auto import tqdm\n",
    "from datetime import datetime\n",
    "from torchvision import transforms\n",
    "\n",
    "from art.attacks.evasion import FastGradientMethod, CarliniL2Method, AutoAttack\n",
    "from art.estimators.classification import PyTorchClassifier\n",
    "\n",
    "import utils\n",
    "import model"
   ]
  },
  {
   "cell_type": "markdown",
   "metadata": {},
   "source": [
    "## Constants"
   ]
  },
  {
   "cell_type": "code",
   "execution_count": 3,
   "metadata": {},
   "outputs": [],
   "source": [
    "dataset = 'CIFAR10'\n",
    "model1 = 'densenet121'\n",
    "path1 = '/home/giorgioseveri/projects/advml/lemon/cifar10_models/state_dicts/densenet121.pt'"
   ]
  },
  {
   "cell_type": "markdown",
   "metadata": {},
   "source": [
    "## Data"
   ]
  },
  {
   "cell_type": "code",
   "execution_count": 4,
   "metadata": {},
   "outputs": [
    {
     "name": "stdout",
     "output_type": "stream",
     "text": [
      "Files already downloaded and verified\n",
      "Files already downloaded and verified\n"
     ]
    }
   ],
   "source": [
    "trainset = utils.load_dataset(dataset, True, download=True)\n",
    "testset = utils.load_dataset(dataset, False, download=True)"
   ]
  },
  {
   "cell_type": "code",
   "execution_count": 5,
   "metadata": {},
   "outputs": [
    {
     "name": "stdout",
     "output_type": "stream",
     "text": [
      "Compose(\n",
      "    ToTensor()\n",
      "    Normalize(mean=[0.485, 0.456, 0.406], std=[0.229, 0.224, 0.225])\n",
      ")\n"
     ]
    }
   ],
   "source": [
    "print(testset.transform)\n",
    "inv_normalize = transforms.Normalize(\n",
    "    mean=[-0.485/0.229, -0.456/0.224, -0.406/0.255],\n",
    "    std=[1/0.229, 1/0.224, 1/0.255]\n",
    ")"
   ]
  },
  {
   "cell_type": "code",
   "execution_count": 6,
   "metadata": {},
   "outputs": [],
   "source": [
    "def imshow(img):\n",
    "    # img = img / 2 + 0.5     # unnormalize\n",
    "    img = inv_normalize(img)\n",
    "    npimg = img.numpy()\n",
    "    plt.imshow(np.transpose(npimg, (1, 2, 0)))"
   ]
  },
  {
   "cell_type": "code",
   "execution_count": 7,
   "metadata": {},
   "outputs": [],
   "source": [
    "tst_ld = torch.utils.data.DataLoader(testset, batch_size=8, shuffle=False, num_workers=8, pin_memory=True)"
   ]
  },
  {
   "cell_type": "code",
   "execution_count": 8,
   "metadata": {},
   "outputs": [
    {
     "name": "stdout",
     "output_type": "stream",
     "text": [
      "torch.Size([8, 3, 32, 32])\n",
      "torch.Size([8])\n"
     ]
    }
   ],
   "source": [
    "tst_imgs, tst_lbs = None, None\n",
    "for batch in tst_ld:\n",
    "    tst_imgs, tst_lbs = batch\n",
    "    break\n",
    "print(tst_imgs.shape)\n",
    "print(tst_lbs.shape)"
   ]
  },
  {
   "cell_type": "markdown",
   "metadata": {},
   "source": [
    "## Model"
   ]
  },
  {
   "cell_type": "code",
   "execution_count": 9,
   "metadata": {},
   "outputs": [
    {
     "name": "stdout",
     "output_type": "stream",
     "text": [
      "<function densenet121 at 0x7f74789fc280>\n"
     ]
    }
   ],
   "source": [
    "architecture_1 = eval(f\"model.{model1}\")\n",
    "print(architecture_1)\n",
    "net = architecture_1()\n",
    "net.load_state_dict(torch.load(path1))\n",
    "net = net.eval()"
   ]
  },
  {
   "cell_type": "code",
   "execution_count": 10,
   "metadata": {},
   "outputs": [
    {
     "name": "stdout",
     "output_type": "stream",
     "text": [
      "Original labels: tensor([3, 8, 8, 0, 6, 6, 1, 6])\n",
      "Predicted labels: tensor([3, 8, 8, 0, 6, 6, 1, 6])\n",
      "tensor([True, True, True, True, True, True, True, True])\n"
     ]
    }
   ],
   "source": [
    "tst_imgs_preds_raw = net(tst_imgs)\n",
    "tst_imgs_preds = torch.argmax(tst_imgs_preds_raw, dim=1)\n",
    "print('Original labels:', tst_imgs_preds)\n",
    "print('Predicted labels:', tst_lbs)\n",
    "print(tst_imgs_preds == tst_lbs)"
   ]
  },
  {
   "cell_type": "markdown",
   "metadata": {},
   "source": [
    "## ART"
   ]
  },
  {
   "cell_type": "code",
   "execution_count": 11,
   "metadata": {},
   "outputs": [],
   "source": [
    "criterion = torch.nn.CrossEntropyLoss()\n",
    "classifier = PyTorchClassifier(\n",
    "    model=net,\n",
    "    loss=criterion,\n",
    "    clip_values=(torch.min(tst_imgs), torch.max(tst_imgs)),\n",
    "    input_shape=tst_imgs.shape[1:],\n",
    "    nb_classes=10,\n",
    ")"
   ]
  },
  {
   "cell_type": "code",
   "execution_count": 12,
   "metadata": {},
   "outputs": [],
   "source": [
    "art_preds = classifier.predict(tst_imgs)\n",
    "assert np.allclose(art_preds, tst_imgs_preds_raw.detach().numpy())"
   ]
  },
  {
   "cell_type": "code",
   "execution_count": 14,
   "metadata": {},
   "outputs": [],
   "source": [
    "# attack = FastGradientMethod(estimator=classifier, eps=0.2)\n",
    "attack = CarliniL2Method(classifier=classifier )\n"
   ]
  },
  {
   "cell_type": "code",
   "execution_count": 15,
   "metadata": {},
   "outputs": [
    {
     "data": {
      "application/vnd.jupyter.widget-view+json": {
       "model_id": "cb54e803eb67431da3867791bdcbe179",
       "version_major": 2,
       "version_minor": 0
      },
      "text/plain": [
       "C&W L_2:   0%|          | 0/8 [00:00<?, ?it/s]"
      ]
     },
     "metadata": {},
     "output_type": "display_data"
    }
   ],
   "source": [
    "x_test_adv = attack.generate(x=tst_imgs.numpy())"
   ]
  },
  {
   "cell_type": "code",
   "execution_count": 20,
   "metadata": {},
   "outputs": [
    {
     "name": "stdout",
     "output_type": "stream",
     "text": [
      "Original predicted labels: tensor([3, 8, 8, 0, 6, 6, 1, 6])\n",
      "New predicted labels: [5 1 1 9 4 5 1 2]\n",
      "Attack success rate 0.875\n"
     ]
    }
   ],
   "source": [
    "x_test_adv_preds_raw = classifier.predict(x_test_adv)\n",
    "x_test_adv_preds = np.argmax(x_test_adv_preds_raw, axis=1)\n",
    "print('Original predicted labels:', tst_imgs_preds)\n",
    "print('New predicted labels:', x_test_adv_preds)\n",
    "print('Attack success rate', 1 - np.mean(x_test_adv_preds == tst_imgs_preds.numpy()))"
   ]
  },
  {
   "cell_type": "code",
   "execution_count": 17,
   "metadata": {},
   "outputs": [
    {
     "name": "stdout",
     "output_type": "stream",
     "text": [
      "Original image before and after normalization\n"
     ]
    },
    {
     "data": {
      "image/png": "[encoded data removed]",
      "text/plain": [
       "<Figure size 432x288 with 1 Axes>"
      ]
     },
     "metadata": {
      "needs_background": "light"
     },
     "output_type": "display_data"
    },
    {
     "name": "stderr",
     "output_type": "stream",
     "text": [
      "Clipping input data to the valid range for imshow with RGB data ([0..1] for floats or [0..255] for integers).\n"
     ]
    },
    {
     "data": {
      "image/png": "[encoded data removed]",
      "text/plain": [
       "<Figure size 432x288 with 1 Axes>"
      ]
     },
     "metadata": {
      "needs_background": "light"
     },
     "output_type": "display_data"
    },
    {
     "name": "stderr",
     "output_type": "stream",
     "text": [
      "Clipping input data to the valid range for imshow with RGB data ([0..1] for floats or [0..255] for integers).\n"
     ]
    },
    {
     "name": "stdout",
     "output_type": "stream",
     "text": [
      "Original label: tensor(3)\n",
      "\n",
      "Adversarial image:\n"
     ]
    },
    {
     "data": {
      "image/png": "[encoded data removed]",
      "text/plain": [
       "<Figure size 432x288 with 1 Axes>"
      ]
     },
     "metadata": {
      "needs_background": "light"
     },
     "output_type": "display_data"
    },
    {
     "name": "stdout",
     "output_type": "stream",
     "text": [
      "Adversarial label: 5\n"
     ]
    }
   ],
   "source": [
    "print('Original image before and after normalization')\n",
    "plt.imshow(testset.data[0])\n",
    "plt.show()\n",
    "imshow(tst_imgs[0])\n",
    "plt.show()\n",
    "print('Original label:', tst_lbs[0])\n",
    "\n",
    "print('\\nAdversarial image:')\n",
    "imshow(torch.tensor(x_test_adv[0]))\n",
    "plt.show()\n",
    "print('Adversarial label:', x_test_adv_preds[0])"
   ]
  },
  {
   "cell_type": "code",
   "execution_count": 30,
   "metadata": {},
   "outputs": [],
   "source": [
    "base_res_path = 'images'\n",
    "exp_path = os.path.join(base_res_path, 'victim_{}_{}'.format(model1, dataset))\n",
    "orig_path = os.path.join(exp_path, 'orig')\n",
    "adv_path = os.path.join(exp_path, 'adv')\n",
    "\n",
    "os.makedirs(base_res_path, exist_ok=True)\n",
    "os.makedirs(exp_path, exist_ok=True)\n",
    "os.makedirs(orig_path, exist_ok=True)\n",
    "os.makedirs(adv_path, exist_ok=True)"
   ]
  },
  {
   "cell_type": "code",
   "execution_count": 31,
   "metadata": {},
   "outputs": [
    {
     "name": "stdout",
     "output_type": "stream",
     "text": [
      "2022-04-30_23-22-42\n"
     ]
    }
   ],
   "source": [
    "ts = datetime.now().strftime('%Y-%m-%d_%H-%M-%S')\n",
    "print(ts)"
   ]
  },
  {
   "cell_type": "code",
   "execution_count": 44,
   "metadata": {},
   "outputs": [],
   "source": [
    "orig_file = os.path.join(orig_path, 'test_{}_{}.npy'.format(tst_imgs.shape[0], ts))\n",
    "adv_file = os.path.join(adv_path, 'test_{}_{}.npy'.format(tst_imgs.shape[0], ts))\n",
    "\n",
    "np.save(orig_file, tst_imgs.numpy())\n",
    "np.save(adv_file, x_test_adv)"
   ]
  },
  {
   "cell_type": "code",
   "execution_count": null,
   "metadata": {},
   "outputs": [],
   "source": []
  }
 ],
 "metadata": {
  "interpreter": {
   "hash": "dedc6e9d36f5fe0ab4d9e7a27bf278c6ab614087e8708f25ce911079ab243912"
  },
  "kernelspec": {
   "display_name": "Python 3.8.13 ('lemon')",
   "language": "python",
   "name": "python3"
  },
  "language_info": {
   "codemirror_mode": {
    "name": "ipython",
    "version": 3
   },
   "file_extension": ".py",
   "mimetype": "text/x-python",
   "name": "python",
   "nbconvert_exporter": "python",
   "pygments_lexer": "ipython3",
   "version": "3.8.13"
  },
  "orig_nbformat": 4
 },
 "nbformat": 4,
 "nbformat_minor": 2
}
